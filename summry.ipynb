{
 "cells": [
  {
   "attachments": {},
   "cell_type": "markdown",
   "metadata": {},
   "source": []
  },
  {
   "cell_type": "code",
   "execution_count": 25,
   "metadata": {},
   "outputs": [
    {
     "name": "stdout",
     "output_type": "stream",
     "text": [
      "2\n",
      "0.37528358680267726\n",
      "4\n",
      "0.5102751328466971\n",
      "6\n",
      "0.5527951346963472\n",
      "8\n",
      "0.574556984045275\n",
      "10\n",
      "0.5850227798217761\n",
      "12\n",
      "0.5920783112700583\n",
      "14\n",
      "0.6184736743903844\n",
      "16\n",
      "0.6239714918395776\n",
      "18\n",
      "0.6285695978116317\n",
      "20\n",
      "0.6299950572938277\n",
      "22\n",
      "0.6374548514197503\n",
      "24\n",
      "0.6433354204330124\n",
      "26\n",
      "0.6462543009780651\n",
      "28\n",
      "0.6524707537851866\n",
      "30\n",
      "0.6552074156814666\n",
      "32\n",
      "0.6579413087069148\n",
      "34\n",
      "0.6582877671734331\n",
      "36\n",
      "0.6590472743826719\n",
      "38\n",
      "0.6592881573406928\n",
      "40\n",
      "0.6598686869157362\n",
      "42\n",
      "0.6600624203658124\n",
      "44\n",
      "0.660654742417258\n",
      "46\n",
      "0.6610017284994155\n",
      "48\n",
      "0.6614235025912004\n",
      "50\n",
      "0.6617845229183252\n"
     ]
    }
   ],
   "source": [
    "import math\n",
    "import torch \n",
    "import pandas as pd \n",
    "from util import Logger\n",
    "\n",
    "logger = Logger()    \n",
    "\n",
    "# width = 64\n",
    "# act = 'relu'\n",
    "net_type = 'wrn50'\n",
    "part = 8\n",
    "net_name = f'{net_type}_pretrain(False)_part({part})_init_par(0)'\n",
    "for epoch in [i for i in range(2, 51, 2)]:\n",
    "    print(epoch)\n",
    "    # print(f'./log/results/{net_type}/epoch-{epoch}/depth-{0}/msv_iters(20)_for_{net_name}.csv')\n",
    "    msvs_pd_depth_0 = pd.read_csv(f'./log/results/{net_type}/epoch-{epoch}/depth-{0}/msv_iters(30)_for_{net_name}.csv', index_col=0)\n",
    "    msvs_pd_depth_1 = pd.read_csv(f'./log/results/{net_type}/epoch-{epoch}/depth-{1}/msv_iters(30)_for_{net_name}.csv', index_col=0)\n",
    "    J_depth_0 = math.sqrt((msvs_pd_depth_0.loc[:, f'{net_name}_0']**2).mean())\n",
    "    J_depth_1_layer1 = math.sqrt((msvs_pd_depth_1.loc[:,'Sequential(0)_0']**2).mean())\n",
    "    J_depth_1_layer2 = math.sqrt((msvs_pd_depth_1.loc[:,'Sequential(1)_1']**2).mean())\n",
    "    J_depth_1_layer12 = math.sqrt(((msvs_pd_depth_1.loc[:,'Sequential(0)_0']**2)*(msvs_pd_depth_1.loc[:,'Sequential(1)_1']**2)).mean())\n",
    "    print(J_depth_0/J_depth_1_layer12)\n",
    "    "
   ]
  },
  {
   "cell_type": "code",
   "execution_count": 26,
   "metadata": {},
   "outputs": [
    {
     "name": "stdout",
     "output_type": "stream",
     "text": [
      "2\n",
      "0.3593665108409156\n",
      "4\n",
      "0.43957913811083765\n",
      "6\n",
      "0.49282650915532583\n",
      "8\n",
      "0.536382748011581\n",
      "10\n",
      "0.5590490524415394\n",
      "12\n",
      "0.5719018344490354\n",
      "14\n",
      "0.5945118811178539\n",
      "16\n",
      "0.6049151975209849\n",
      "18\n",
      "0.6144713090293262\n",
      "20\n",
      "0.6230722365489612\n",
      "22\n",
      "0.6271130335046918\n",
      "24\n",
      "0.6255801242791472\n",
      "26\n",
      "0.6360101407505738\n",
      "28\n",
      "0.6454718449834974\n",
      "30\n",
      "0.6467748322447626\n",
      "32\n",
      "0.6516115266677385\n",
      "34\n",
      "0.6549270209150929\n",
      "36\n",
      "0.6599789344821442\n",
      "38\n",
      "0.6615412885885019\n",
      "40\n",
      "0.6623114034331387\n",
      "42\n",
      "0.663519699450458\n",
      "44\n",
      "0.6642170684006381\n",
      "46\n",
      "0.6652750255428952\n",
      "48\n",
      "0.666066540085401\n",
      "50\n",
      "0.6665126131904833\n"
     ]
    }
   ],
   "source": [
    "import math\n",
    "import torch \n",
    "import pandas as pd \n",
    "from util import Logger\n",
    "\n",
    "logger = Logger()    \n",
    "\n",
    "# width = 64\n",
    "# act = 'relu'\n",
    "net_type = 'resnet50'\n",
    "part = 8\n",
    "net_name = f'{net_type}_pretrain(False)_part({part})_init_par(0)'\n",
    "for epoch in [i for i in range(2, 51, 2)]:\n",
    "    print(epoch)\n",
    "    # print(f'./log/results/{net_type}/epoch-{epoch}/depth-{0}/msv_iters(20)_for_{net_name}.csv')\n",
    "    msvs_pd_depth_0 = pd.read_csv(f'./log/results/{net_type}/epoch-{epoch}/depth-{0}/msv_iters(30)_for_{net_name}.csv', index_col=0)\n",
    "    msvs_pd_depth_1 = pd.read_csv(f'./log/results/{net_type}/epoch-{epoch}/depth-{1}/msv_iters(30)_for_{net_name}.csv', index_col=0)\n",
    "    J_depth_0 = math.sqrt((msvs_pd_depth_0.loc[:, f'{net_name}_0']**2).mean())\n",
    "    J_depth_1_layer1 = math.sqrt((msvs_pd_depth_1.loc[:,'Sequential(0)_0']**2).mean())\n",
    "    J_depth_1_layer2 = math.sqrt((msvs_pd_depth_1.loc[:,'Sequential(1)_1']**2).mean())\n",
    "    J_depth_1_layer12 = math.sqrt(((msvs_pd_depth_1.loc[:,'Sequential(0)_0']**2)*(msvs_pd_depth_1.loc[:,'Sequential(1)_1']**2)).mean())\n",
    "    print(J_depth_0/J_depth_1_layer12)\n",
    "    "
   ]
  },
  {
   "cell_type": "code",
   "execution_count": 54,
   "metadata": {},
   "outputs": [],
   "source": []
  },
  {
   "cell_type": "code",
   "execution_count": 56,
   "metadata": {},
   "outputs": [
    {
     "name": "stdout",
     "output_type": "stream",
     "text": [
      "0.82789358099576\n"
     ]
    }
   ],
   "source": [
    "print(J_depth_0/J_depth_1_a_sigma_W)"
   ]
  }
 ],
 "metadata": {
  "kernelspec": {
   "display_name": "wz",
   "language": "python",
   "name": "python3"
  },
  "language_info": {
   "codemirror_mode": {
    "name": "ipython",
    "version": 3
   },
   "file_extension": ".py",
   "mimetype": "text/x-python",
   "name": "python",
   "nbconvert_exporter": "python",
   "pygments_lexer": "ipython3",
   "version": "3.11.3"
  },
  "orig_nbformat": 4
 },
 "nbformat": 4,
 "nbformat_minor": 2
}
